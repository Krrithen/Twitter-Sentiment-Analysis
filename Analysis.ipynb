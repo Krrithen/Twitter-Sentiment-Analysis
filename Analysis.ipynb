{
  "nbformat": 4,
  "nbformat_minor": 0,
  "metadata": {
    "colab": {
      "provenance": []
    },
    "kernelspec": {
      "name": "python3",
      "display_name": "Python 3"
    },
    "language_info": {
      "name": "python"
    }
  },
  "cells": [
    {
      "cell_type": "markdown",
      "source": [
        "# Twitter sentiment analysis"
      ],
      "metadata": {
        "id": "cvy6ajcbq_6R"
      }
    },
    {
      "cell_type": "markdown",
      "source": [
        "#### Importing necessary libraries"
      ],
      "metadata": {
        "id": "WykatrCxD96I"
      }
    },
    {
      "cell_type": "code",
      "execution_count": 5,
      "metadata": {
        "id": "0Wwu8O-gq6e0"
      },
      "outputs": [],
      "source": [
        "import os\n",
        "import re\n",
        "import tweepy\n",
        "from tweepy import OAuthHandler\n",
        "from textblob import TextBlob"
      ]
    },
    {
      "cell_type": "markdown",
      "source": [
        "#### Setting Twitter API keys and tokens as environment variables in OS.\n",
        "\n",
        "    os.environ['TWITTER_CONSUMER_KEY'] = 'your-consumer-key'\n",
        "    os.environ['TWITTER_CONSUMER_SECRET'] = 'your-consumer-secret'\n",
        "    os.environ['TWITTER_ACCESS_TOKEN'] = 'your-access-token'\n",
        "    os.environ['TWITTER_ACCESS_TOKEN_SECRET'] = 'your-access-token-secret'"
      ],
      "metadata": {
        "id": "yIH90UvaEa7G"
      }
    },
    {
      "cell_type": "markdown",
      "source": [
        "#### Fetch Twitter API keys and tokens from environment variables"
      ],
      "metadata": {
        "id": "63rxKvrkFJ9t"
      }
    },
    {
      "cell_type": "code",
      "source": [
        "consumer_key = os.getenv('TWITTER_CONSUMER_KEY')\n",
        "consumer_secret = os.getenv('TWITTER_CONSUMER_SECRET')\n",
        "access_token = os.getenv('TWITTER_ACCESS_TOKEN')\n",
        "access_token_secret = os.getenv('TWITTER_ACCESS_TOKEN_SECRET')\n",
        "\n",
        "# Ensure that all keys are retrieved, else raise an error\n",
        "if not all([consumer_key, consumer_secret, access_token, access_token_secret]):\n",
        "    raise ValueError(\"Missing one or more Twitter API keys. Check your environment variables.\")"
      ],
      "metadata": {
        "id": "tD9IEEOKFJp0"
      },
      "execution_count": null,
      "outputs": []
    },
    {
      "cell_type": "markdown",
      "source": [
        "#### Defining the TwitterClient class for sentiment analysis"
      ],
      "metadata": {
        "id": "CfRbm7AWFovf"
      }
    },
    {
      "cell_type": "code",
      "source": [
        "class TwitterClient(object):\n",
        "\n",
        "    def __init__(self):\n",
        "        try:\n",
        "            # OAuthHandler object for authentication\n",
        "            self.auth = OAuthHandler(consumer_key, consumer_secret)\n",
        "            self.auth.set_access_token(access_token, access_token_secret)\n",
        "            self.api = tweepy.API(self.auth)\n",
        "        except Exception as e:\n",
        "            print(f\"Error: Authentication Failed - {e}\")\n",
        "\n",
        "    # Utility function to clean tweet text by removing links and special characters using regular expressions.\n",
        "    def clean_tweet(self, tweet):\n",
        "        return ' '.join(re.sub(\"(@[A-Za-z0-9]+)|([^0-9A-Za-z \\t])|(\\w+:\\/\\/\\S+)\", \" \", tweet).split())\n",
        "\n",
        "    # Function to classify sentiment of a tweet using textblob's sentiment method\n",
        "    def get_tweet_sentiment(self, tweet):\n",
        "        analysis = TextBlob(self.clean_ttweet)\n",
        "        if analysis.sentiment.polarity > 0:\n",
        "            return 'positive'\n",
        "        elif analysis.sentiment.polarity == 0:\n",
        "            return 'neutral'\n",
        "        else:\n",
        "            return 'negative'\n",
        "\n",
        "    # Function to fetch tweets from the API and parse them.\n",
        "    def get_tweets(self, query, count=10):\n",
        "        tweets = []\n",
        "        try:\n",
        "            fetched_tweets = self.api.search(q=query, count=count)\n",
        "            for tweet in fetched_tweets:\n",
        "                parsed_tweet = {}\n",
        "                parsed_tweet['text'] = tweet.text\n",
        "                parsed_tweet['sentiment'] = self.get_tweet_sentiment(tweet.text)\n",
        "                if tweet.retweet_count > 0:\n",
        "                    if parsed_tweet not in tweets:\n",
        "                        tweets.append(parsed_tweet)\n",
        "                else:\n",
        "                    tweets.append(parsed_tweet)\n",
        "            return tweets\n",
        "        except tweepy.TweepError as e:\n",
        "            print(f\"Error: {e}\")"
      ],
      "metadata": {
        "id": "ICswN7mOEkpY"
      },
      "execution_count": 7,
      "outputs": []
    },
    {
      "cell_type": "markdown",
      "source": [
        "#### Main function to perform sentiment analysis on a sample query"
      ],
      "metadata": {
        "id": "lyhmFTmkGsUM"
      }
    },
    {
      "cell_type": "code",
      "source": [
        "def main():\n",
        "    api = TwitterClient()\n",
        "\n",
        "    # Fetch tweets for a query (e.g., 'Donald Trump')\n",
        "    tweets = api.get_tweets(query='Donald Trump', count=200)\n",
        "\n",
        "    # Extract positive, negative, and neutral tweets\n",
        "    positive_tweets = [tweet for tweet in tweets if tweet['sentiment'] == 'positive']\n",
        "    negative_tweets = [tweet for tweet in tweets if tweet['sentiment'] == 'negative']\n",
        "\n",
        "    # Calculate and print the percentage of each sentiment\n",
        "    print(f\"Positive tweets percentage: {100 * len(positive_tweets) / len(tweets):.2f} %\")\n",
        "    print(f\"Negative tweets percentage: {100 * len(negative_tweets) / len(tweets):.2f} %\")\n",
        "    print(f\"Neutral tweets percentage: {100 * (len(tweets) - len(positive_tweets) - len(negative_tweets)) / len(tweets):.2f} %\")\n",
        "\n",
        "    print(\"\\nPositive tweets:\")\n",
        "    for tweet in positive_tweets[:10]:\n",
        "        print(tweet['text'])\n",
        "\n",
        "    print(\"\\nNegative tweets:\")\n",
        "    for tweet in negative_tweets[:10]:\n",
        "        print(tweet['text'])"
      ],
      "metadata": {
        "id": "9nLGIgLCGiFc"
      },
      "execution_count": 8,
      "outputs": []
    },
    {
      "cell_type": "code",
      "source": [
        "if __name__ == \"__main__\":\n",
        "    main()"
      ],
      "metadata": {
        "id": "V0pA2gyzG5R8"
      },
      "execution_count": null,
      "outputs": []
    }
  ]
}